{
  "nbformat": 4,
  "nbformat_minor": 0,
  "metadata": {
    "colab": {
      "provenance": []
    },
    "kernelspec": {
      "name": "python3",
      "display_name": "Python 3"
    },
    "language_info": {
      "name": "python"
    }
  },
  "cells": [
    {
      "cell_type": "markdown",
      "source": [
        "# Escola de Inverno - IESP-UERJ - 2023\n",
        "\n",
        "## Introdução à Ciência de Dados\n",
        "Matheus C. Pestana\n",
        "\n",
        "### A primeira função em Python: `print()`"
      ],
      "metadata": {
        "id": "KNmh1tR1WB7X"
      }
    },
    {
      "cell_type": "code",
      "execution_count": null,
      "metadata": {
        "colab": {
          "base_uri": "https://localhost:8080/"
        },
        "id": "-dMHGbNHVWPQ",
        "outputId": "cc92a715-18a8-4d2f-f995-d38c234d592a"
      },
      "outputs": [
        {
          "output_type": "stream",
          "name": "stdout",
          "text": [
            "Olá, Mundo! 🌎\n"
          ]
        }
      ],
      "source": [
        "print('Olá, Mundo! 🌎')"
      ]
    },
    {
      "cell_type": "code",
      "source": [
        "primeiro_objeto = 'Olá'\n",
        "print(primeiro_objeto)"
      ],
      "metadata": {
        "colab": {
          "base_uri": "https://localhost:8080/"
        },
        "id": "4vNduSQyWej1",
        "outputId": "7bfb5fd3-a79e-4ef6-a788-ea111cd92905"
      },
      "execution_count": null,
      "outputs": [
        {
          "output_type": "stream",
          "name": "stdout",
          "text": [
            "Olá\n"
          ]
        }
      ]
    },
    {
      "cell_type": "code",
      "source": [
        "primeiro_objeto"
      ],
      "metadata": {
        "colab": {
          "base_uri": "https://localhost:8080/",
          "height": 36
        },
        "id": "r35Lw9AMX1E9",
        "outputId": "3d67926e-e1f7-4081-fc93-d89e74c8fce8"
      },
      "execution_count": null,
      "outputs": [
        {
          "output_type": "execute_result",
          "data": {
            "text/plain": [
              "'Olá'"
            ],
            "application/vnd.google.colaboratory.intrinsic+json": {
              "type": "string"
            }
          },
          "metadata": {},
          "execution_count": 12
        }
      ]
    },
    {
      "cell_type": "code",
      "source": [
        "segundo_objeto = 'Mundo 🌎'\n",
        "print(primeiro_objeto, segundo_objeto)"
      ],
      "metadata": {
        "colab": {
          "base_uri": "https://localhost:8080/"
        },
        "id": "WYltDgB3Xula",
        "outputId": "647e501b-2b69-4792-90c7-f0db8a3227cc"
      },
      "execution_count": null,
      "outputs": [
        {
          "output_type": "stream",
          "name": "stdout",
          "text": [
            "Olá Mundo 🌎\n"
          ]
        }
      ]
    },
    {
      "cell_type": "code",
      "source": [
        "primeiro_objeto + segundo_objeto"
      ],
      "metadata": {
        "colab": {
          "base_uri": "https://localhost:8080/",
          "height": 36
        },
        "id": "t2LqO6-SX7xX",
        "outputId": "61aeb279-30d1-4f89-a030-5cc571e849cd"
      },
      "execution_count": null,
      "outputs": [
        {
          "output_type": "execute_result",
          "data": {
            "text/plain": [
              "'OláMundo 🌎'"
            ],
            "application/vnd.google.colaboratory.intrinsic+json": {
              "type": "string"
            }
          },
          "metadata": {},
          "execution_count": 16
        }
      ]
    },
    {
      "cell_type": "code",
      "source": [
        "primeiro_objeto + ', ' + segundo_objeto + '!'"
      ],
      "metadata": {
        "colab": {
          "base_uri": "https://localhost:8080/",
          "height": 36
        },
        "id": "KwQThKQYX-ML",
        "outputId": "e4c7c1c4-2b60-446a-c8d7-848d91b33c7d"
      },
      "execution_count": null,
      "outputs": [
        {
          "output_type": "execute_result",
          "data": {
            "text/plain": [
              "'Olá, Mundo 🌎!'"
            ],
            "application/vnd.google.colaboratory.intrinsic+json": {
              "type": "string"
            }
          },
          "metadata": {},
          "execution_count": 17
        }
      ]
    },
    {
      "cell_type": "code",
      "source": [
        "nome = 'Matheus'\n",
        "sobrenome = 'Pestana'\n",
        "idade = 30\n",
        "\n",
        "print(f'Meu nome é {nome} {sobrenome} e eu tenho {idade} anos.')"
      ],
      "metadata": {
        "colab": {
          "base_uri": "https://localhost:8080/"
        },
        "id": "j9Fp7UvNYDOe",
        "outputId": "fc8df097-809c-41b9-82fa-cf542bbf9184"
      },
      "execution_count": null,
      "outputs": [
        {
          "output_type": "stream",
          "name": "stdout",
          "text": [
            "Meu nome é Matheus Pestana e eu tenho 30 anos.\n"
          ]
        }
      ]
    },
    {
      "cell_type": "code",
      "source": [
        "objeto_multilinha = \"\"\"\n",
        "Essa variável\n",
        "ocupa mais\n",
        "de\n",
        "uma linha\n",
        "\"\"\"\n",
        "print(objeto_multilinha)"
      ],
      "metadata": {
        "colab": {
          "base_uri": "https://localhost:8080/"
        },
        "id": "_RS487diYOM6",
        "outputId": "adbe6c33-f828-4320-c14f-31b3d6ff374e"
      },
      "execution_count": null,
      "outputs": [
        {
          "output_type": "stream",
          "name": "stdout",
          "text": [
            "\n",
            "Essa variável\n",
            "ocupa mais\n",
            "de \n",
            "uma linha\n",
            "\n"
          ]
        }
      ]
    },
    {
      "cell_type": "markdown",
      "source": [
        "### Python como Calculadora"
      ],
      "metadata": {
        "id": "ZnaOmxTcZHZv"
      }
    },
    {
      "cell_type": "code",
      "source": [
        "1 + 1"
      ],
      "metadata": {
        "colab": {
          "base_uri": "https://localhost:8080/"
        },
        "id": "Vou97LwgYbau",
        "outputId": "f331530d-09a2-4f8c-b5ee-00b61d722c19"
      },
      "execution_count": null,
      "outputs": [
        {
          "output_type": "execute_result",
          "data": {
            "text/plain": [
              "2"
            ]
          },
          "metadata": {},
          "execution_count": 20
        }
      ]
    },
    {
      "cell_type": "code",
      "source": [
        "2 - 1"
      ],
      "metadata": {
        "colab": {
          "base_uri": "https://localhost:8080/"
        },
        "id": "reduBLa5ZKNk",
        "outputId": "9aab2f97-8098-47ed-c30b-eebb09807f17"
      },
      "execution_count": null,
      "outputs": [
        {
          "output_type": "execute_result",
          "data": {
            "text/plain": [
              "1"
            ]
          },
          "metadata": {},
          "execution_count": 21
        }
      ]
    },
    {
      "cell_type": "code",
      "source": [
        "3 * 4"
      ],
      "metadata": {
        "colab": {
          "base_uri": "https://localhost:8080/"
        },
        "id": "E-IddTeNZK5p",
        "outputId": "90826a4d-e420-41c2-c4ce-f74e82ad2f7c"
      },
      "execution_count": null,
      "outputs": [
        {
          "output_type": "execute_result",
          "data": {
            "text/plain": [
              "12"
            ]
          },
          "metadata": {},
          "execution_count": 22
        }
      ]
    },
    {
      "cell_type": "code",
      "source": [
        "4 / 2"
      ],
      "metadata": {
        "colab": {
          "base_uri": "https://localhost:8080/"
        },
        "id": "2_-ZEAl0ZLrV",
        "outputId": "90379caa-9864-4b85-f198-495920882425"
      },
      "execution_count": null,
      "outputs": [
        {
          "output_type": "execute_result",
          "data": {
            "text/plain": [
              "2.0"
            ]
          },
          "metadata": {},
          "execution_count": 23
        }
      ]
    },
    {
      "cell_type": "code",
      "source": [
        "2 ** 10"
      ],
      "metadata": {
        "colab": {
          "base_uri": "https://localhost:8080/"
        },
        "id": "plm0gMOIZMQJ",
        "outputId": "5af80803-644e-4fa2-c93b-058bd2a76a21"
      },
      "execution_count": null,
      "outputs": [
        {
          "output_type": "execute_result",
          "data": {
            "text/plain": [
              "1024"
            ]
          },
          "metadata": {},
          "execution_count": 24
        }
      ]
    },
    {
      "cell_type": "code",
      "source": [
        "10 % 5"
      ],
      "metadata": {
        "colab": {
          "base_uri": "https://localhost:8080/"
        },
        "id": "UL2_GdX2ZM8z",
        "outputId": "6dc8e641-d1ab-4625-a7be-15e3303310d5"
      },
      "execution_count": null,
      "outputs": [
        {
          "output_type": "execute_result",
          "data": {
            "text/plain": [
              "0"
            ]
          },
          "metadata": {},
          "execution_count": 25
        }
      ]
    },
    {
      "cell_type": "code",
      "source": [
        "7 / 3.5"
      ],
      "metadata": {
        "colab": {
          "base_uri": "https://localhost:8080/"
        },
        "id": "hh3Ycu9xZPSa",
        "outputId": "465878b4-e707-46bc-8c07-9a2d475ffc68"
      },
      "execution_count": null,
      "outputs": [
        {
          "output_type": "execute_result",
          "data": {
            "text/plain": [
              "2.0"
            ]
          },
          "metadata": {},
          "execution_count": 26
        }
      ]
    },
    {
      "cell_type": "code",
      "source": [
        "sqrt(144)"
      ],
      "metadata": {
        "colab": {
          "base_uri": "https://localhost:8080/",
          "height": 166
        },
        "id": "s6-2apdlZQLc",
        "outputId": "bd106db6-adb9-4f32-f335-3eacbe2afd81"
      },
      "execution_count": null,
      "outputs": [
        {
          "output_type": "error",
          "ename": "NameError",
          "evalue": "ignored",
          "traceback": [
            "\u001b[0;31m---------------------------------------------------------------------------\u001b[0m",
            "\u001b[0;31mNameError\u001b[0m                                 Traceback (most recent call last)",
            "\u001b[0;32m<ipython-input-27-e1afeb89490e>\u001b[0m in \u001b[0;36m<cell line: 1>\u001b[0;34m()\u001b[0m\n\u001b[0;32m----> 1\u001b[0;31m \u001b[0msqrt\u001b[0m\u001b[0;34m(\u001b[0m\u001b[0;36m144\u001b[0m\u001b[0;34m)\u001b[0m\u001b[0;34m\u001b[0m\u001b[0;34m\u001b[0m\u001b[0m\n\u001b[0m",
            "\u001b[0;31mNameError\u001b[0m: name 'sqrt' is not defined"
          ]
        }
      ]
    },
    {
      "cell_type": "code",
      "source": [
        "import math\n",
        "math.sqrt(144)"
      ],
      "metadata": {
        "colab": {
          "base_uri": "https://localhost:8080/"
        },
        "id": "07j2lM3kZQ9W",
        "outputId": "a49db99b-7c42-4a24-f7ab-410cec48497d"
      },
      "execution_count": null,
      "outputs": [
        {
          "output_type": "execute_result",
          "data": {
            "text/plain": [
              "12.0"
            ]
          },
          "metadata": {},
          "execution_count": 70
        }
      ]
    },
    {
      "cell_type": "code",
      "source": [
        "from math import ceil, floor\n",
        "ceil(12.1)"
      ],
      "metadata": {
        "colab": {
          "base_uri": "https://localhost:8080/"
        },
        "id": "rPfTa3YNZUFq",
        "outputId": "b1e1320d-29ac-4470-c064-01ed185e91ca"
      },
      "execution_count": null,
      "outputs": [
        {
          "output_type": "execute_result",
          "data": {
            "text/plain": [
              "13"
            ]
          },
          "metadata": {},
          "execution_count": 75
        }
      ]
    },
    {
      "cell_type": "code",
      "source": [
        "floor(99.999999989769)"
      ],
      "metadata": {
        "colab": {
          "base_uri": "https://localhost:8080/"
        },
        "id": "8_0gBHXddmbm",
        "outputId": "e3e11ca4-40e9-4edb-99a9-12e74a11e93f"
      },
      "execution_count": null,
      "outputs": [
        {
          "output_type": "execute_result",
          "data": {
            "text/plain": [
              "99"
            ]
          },
          "metadata": {},
          "execution_count": 72
        }
      ]
    },
    {
      "cell_type": "markdown",
      "source": [
        "### TIpos de objetos"
      ],
      "metadata": {
        "id": "Cv_fCVFSZe2B"
      }
    },
    {
      "cell_type": "code",
      "source": [
        "string = 'Matheus Pestana'\n",
        "numero = 29\n",
        "booleano = True\n",
        "lista = [string, numero, booleano]\n",
        "dicionario = {'nome':string, 'idade':numero, 'brasileiro': booleano}\n",
        "string_longa = 'Matheus Bruno Camila Juliana Luiza Marília Maurício Daniel Bruno Gabriel Rodolfo Sergio Josimar João Olga Luna Rennan Matheus'\n",
        "\n",
        "print(lista)\n",
        "print(dicionario)"
      ],
      "metadata": {
        "colab": {
          "base_uri": "https://localhost:8080/"
        },
        "id": "DOtZ1UtXZaj0",
        "outputId": "d99178c0-bc3a-428d-bd75-32931efbffdf"
      },
      "execution_count": null,
      "outputs": [
        {
          "output_type": "stream",
          "name": "stdout",
          "text": [
            "['Matheus Pestana', 29, True]\n",
            "{'nome': 'Matheus Pestana', 'idade': 29, 'brasileiro': True}\n"
          ]
        }
      ]
    },
    {
      "cell_type": "code",
      "source": [
        "lista[0]"
      ],
      "metadata": {
        "colab": {
          "base_uri": "https://localhost:8080/",
          "height": 36
        },
        "id": "w177nM9uZ3w8",
        "outputId": "e55a24dd-96c5-472a-e652-4e95b5f04eaf"
      },
      "execution_count": null,
      "outputs": [
        {
          "output_type": "execute_result",
          "data": {
            "text/plain": [
              "'Matheus Pestana'"
            ],
            "application/vnd.google.colaboratory.intrinsic+json": {
              "type": "string"
            }
          },
          "metadata": {},
          "execution_count": 32
        }
      ]
    },
    {
      "cell_type": "code",
      "source": [
        "lista[1]"
      ],
      "metadata": {
        "colab": {
          "base_uri": "https://localhost:8080/"
        },
        "id": "mo8pzCLxZ5uw",
        "outputId": "e949fa34-e4b9-4871-dfd0-2517dd576352"
      },
      "execution_count": null,
      "outputs": [
        {
          "output_type": "execute_result",
          "data": {
            "text/plain": [
              "29"
            ]
          },
          "metadata": {},
          "execution_count": 33
        }
      ]
    },
    {
      "cell_type": "code",
      "source": [
        "lista[0:2]"
      ],
      "metadata": {
        "colab": {
          "base_uri": "https://localhost:8080/"
        },
        "id": "fLlJaXlXZ6Lr",
        "outputId": "d33a11dc-3630-472a-df6a-50552e5dd052"
      },
      "execution_count": null,
      "outputs": [
        {
          "output_type": "execute_result",
          "data": {
            "text/plain": [
              "['Matheus Pestana', 29]"
            ]
          },
          "metadata": {},
          "execution_count": 34
        }
      ]
    },
    {
      "cell_type": "code",
      "source": [
        "lista[-1]"
      ],
      "metadata": {
        "colab": {
          "base_uri": "https://localhost:8080/"
        },
        "id": "VDckYw1qZ7Ho",
        "outputId": "79e14817-e1cf-48ff-efa1-72dcf64f4e28"
      },
      "execution_count": null,
      "outputs": [
        {
          "output_type": "execute_result",
          "data": {
            "text/plain": [
              "True"
            ]
          },
          "metadata": {},
          "execution_count": 35
        }
      ]
    },
    {
      "cell_type": "code",
      "source": [
        "lista_de_listas = [[0, 1, 2], ['Matheus', 'Bruno', 'Camila', 'Juliana', 'Luiza'], ['Marília', 'Maurício', 'Daniel'], ['Bruno', 'Gabriel'], ['Rodolfo', 'Sergio',  'Josimar', 'João',  'Olga', 'Luna', 'Rennan']]\n",
        "print(lista_de_listas)\n",
        "print(lista_de_listas[0])\n",
        "print(lista_de_listas[1][1])"
      ],
      "metadata": {
        "colab": {
          "base_uri": "https://localhost:8080/"
        },
        "id": "h2wpT5rOZ8Ly",
        "outputId": "c93ebc33-3a90-4fdf-b677-3c3c2bf76a14"
      },
      "execution_count": null,
      "outputs": [
        {
          "output_type": "stream",
          "name": "stdout",
          "text": [
            "[[0, 1, 2], ['Matheus', 'Bruno', 'Camila', 'Juliana', 'Luiza'], ['Marília', 'Maurício', 'Daniel'], ['Bruno', 'Gabriel'], ['Rodolfo', 'Sergio', 'Josimar', 'João', 'Olga', 'Luna', 'Rennan']]\n",
            "[0, 1, 2]\n",
            "Bruno\n"
          ]
        }
      ]
    },
    {
      "cell_type": "code",
      "source": [
        "dicionario['idade']"
      ],
      "metadata": {
        "colab": {
          "base_uri": "https://localhost:8080/"
        },
        "id": "L5oJxHkgadw7",
        "outputId": "1251a346-6a42-4b75-fe53-162c597a3d10"
      },
      "execution_count": null,
      "outputs": [
        {
          "output_type": "execute_result",
          "data": {
            "text/plain": [
              "29"
            ]
          },
          "metadata": {},
          "execution_count": 39
        }
      ]
    },
    {
      "cell_type": "code",
      "source": [
        "dicionario.keys()"
      ],
      "metadata": {
        "colab": {
          "base_uri": "https://localhost:8080/"
        },
        "id": "DzQNZktGaq5l",
        "outputId": "ba41ba64-1ce1-4404-d470-7de83ac4a375"
      },
      "execution_count": null,
      "outputs": [
        {
          "output_type": "execute_result",
          "data": {
            "text/plain": [
              "dict_keys(['nome', 'idade', 'brasileiro'])"
            ]
          },
          "metadata": {},
          "execution_count": 40
        }
      ]
    },
    {
      "cell_type": "code",
      "source": [
        "dicionario.values()"
      ],
      "metadata": {
        "colab": {
          "base_uri": "https://localhost:8080/"
        },
        "id": "xOSfUvO-ar2T",
        "outputId": "d671b89a-b51f-41c4-efa1-0c8ef08e381a"
      },
      "execution_count": null,
      "outputs": [
        {
          "output_type": "execute_result",
          "data": {
            "text/plain": [
              "dict_values(['Matheus Pestana', 29, True])"
            ]
          },
          "metadata": {},
          "execution_count": 41
        }
      ]
    },
    {
      "cell_type": "code",
      "source": [
        "dicionario2 = {'chave1': 1234}\n",
        "dicionario2.values()"
      ],
      "metadata": {
        "colab": {
          "base_uri": "https://localhost:8080/"
        },
        "id": "DLkGuL_easuS",
        "outputId": "561ee042-f67d-4d3d-d6e4-62295787ed96"
      },
      "execution_count": null,
      "outputs": [
        {
          "output_type": "execute_result",
          "data": {
            "text/plain": [
              "dict_values([1234])"
            ]
          },
          "metadata": {},
          "execution_count": 42
        }
      ]
    },
    {
      "cell_type": "code",
      "source": [
        "dicionario_teste = dict() # dicionario_teste = {}\n",
        "dicionario_teste['nome'] = lista[0]\n",
        "dicionario_teste['idade'] = lista[1]\n",
        "dicionario_teste['brasileiro'] = lista[2]\n",
        "dicionario_teste['trabalho'] = ['ISER', 'Dados', 'FGV ECMI', 'IESP-UERJ', 'Casa Galileia']\n",
        "print(dicionario_teste)"
      ],
      "metadata": {
        "colab": {
          "base_uri": "https://localhost:8080/"
        },
        "id": "GxTrG0A1awKz",
        "outputId": "8bac02cb-4083-4ee0-d020-d9471f8ba7a3"
      },
      "execution_count": null,
      "outputs": [
        {
          "output_type": "stream",
          "name": "stdout",
          "text": [
            "{'nome': 'Matheus Pestana', 'idade': 29, 'brasileiro': True, 'trabalho': ['ISER', 'Dados', 'FGV', 'IESP-UERJ', 'Casa Galileia']}\n"
          ]
        }
      ]
    },
    {
      "cell_type": "code",
      "source": [
        "dicionario_teste['trabalho'][2]"
      ],
      "metadata": {
        "colab": {
          "base_uri": "https://localhost:8080/",
          "height": 36
        },
        "id": "aTo9bBh-bB03",
        "outputId": "d8c6b4f6-c3bf-4b19-afe9-db09210b6048"
      },
      "execution_count": null,
      "outputs": [
        {
          "output_type": "execute_result",
          "data": {
            "text/plain": [
              "'FGV'"
            ],
            "application/vnd.google.colaboratory.intrinsic+json": {
              "type": "string"
            }
          },
          "metadata": {},
          "execution_count": 44
        }
      ]
    },
    {
      "cell_type": "markdown",
      "source": [
        "### Funções e métodos"
      ],
      "metadata": {
        "id": "jxFIexC5bJgB"
      }
    },
    {
      "cell_type": "code",
      "source": [
        "def soma(x, y):\n",
        "  return x + y\n",
        "\n",
        "soma(3, 10)"
      ],
      "metadata": {
        "colab": {
          "base_uri": "https://localhost:8080/"
        },
        "id": "N7uXxBN_bGAc",
        "outputId": "0a98c17f-7867-4d2e-dba9-0168823ae8bf"
      },
      "execution_count": null,
      "outputs": [
        {
          "output_type": "execute_result",
          "data": {
            "text/plain": [
              "13"
            ]
          },
          "metadata": {},
          "execution_count": 45
        }
      ]
    },
    {
      "cell_type": "code",
      "source": [
        "def subtrai(a, b):\n",
        "  resultado = a - b\n",
        "  return resultado\n",
        "\n",
        "subtrai(3, 1)"
      ],
      "metadata": {
        "colab": {
          "base_uri": "https://localhost:8080/"
        },
        "id": "IvL0GE2ybNqA",
        "outputId": "123c924e-cb38-4648-c2e9-b38fc75abcd7"
      },
      "execution_count": null,
      "outputs": [
        {
          "output_type": "execute_result",
          "data": {
            "text/plain": [
              "2"
            ]
          },
          "metadata": {},
          "execution_count": 46
        }
      ]
    },
    {
      "cell_type": "code",
      "source": [
        "def cumprimento(nome):\n",
        "  return f'Olá {nome}! Como vai? Tudo bem?'\n",
        "\n",
        "cumprimento('Olga')"
      ],
      "metadata": {
        "colab": {
          "base_uri": "https://localhost:8080/",
          "height": 36
        },
        "id": "yrwelSrwbRHt",
        "outputId": "974198d7-a7ae-44ef-c96e-6a6befd51c05"
      },
      "execution_count": null,
      "outputs": [
        {
          "output_type": "execute_result",
          "data": {
            "text/plain": [
              "'Olá Olga! Como vai? Tudo bem?'"
            ],
            "application/vnd.google.colaboratory.intrinsic+json": {
              "type": "string"
            }
          },
          "metadata": {},
          "execution_count": 47
        }
      ]
    },
    {
      "cell_type": "code",
      "source": [
        "cumprimento('Daniel')"
      ],
      "metadata": {
        "colab": {
          "base_uri": "https://localhost:8080/",
          "height": 36
        },
        "id": "rdbxq9EobXvo",
        "outputId": "b47767d5-a123-42e2-d855-de8e47b12fec"
      },
      "execution_count": null,
      "outputs": [
        {
          "output_type": "execute_result",
          "data": {
            "text/plain": [
              "'Olá Daniel! Como vai? Tudo bem?'"
            ],
            "application/vnd.google.colaboratory.intrinsic+json": {
              "type": "string"
            }
          },
          "metadata": {},
          "execution_count": 48
        }
      ]
    },
    {
      "cell_type": "code",
      "source": [
        "string_longa.split()"
      ],
      "metadata": {
        "colab": {
          "base_uri": "https://localhost:8080/"
        },
        "id": "ZoLouNyQbbp0",
        "outputId": "219a89fd-1bd1-448d-b741-eb3ab3bd0dbb"
      },
      "execution_count": null,
      "outputs": [
        {
          "output_type": "execute_result",
          "data": {
            "text/plain": [
              "['Matheus',\n",
              " 'Bruno',\n",
              " 'Camila',\n",
              " 'Juliana',\n",
              " 'Luiza',\n",
              " 'Marília',\n",
              " 'Maurício',\n",
              " 'Daniel',\n",
              " 'Bruno',\n",
              " 'Gabriel',\n",
              " 'Rodolfo',\n",
              " 'Sergio',\n",
              " 'Josimar',\n",
              " 'João',\n",
              " 'Olga',\n",
              " 'Luna',\n",
              " 'Rennan',\n",
              " 'Matheus']"
            ]
          },
          "metadata": {},
          "execution_count": 51
        }
      ]
    },
    {
      "cell_type": "code",
      "source": [
        "print(string_longa.lower())\n",
        "print(string_longa.upper())"
      ],
      "metadata": {
        "colab": {
          "base_uri": "https://localhost:8080/"
        },
        "id": "0f4lQ02abdIa",
        "outputId": "98eccb99-8316-485c-8fec-4fd4ef3ae3a3"
      },
      "execution_count": null,
      "outputs": [
        {
          "output_type": "stream",
          "name": "stdout",
          "text": [
            "matheus bruno camila juliana luiza marília maurício daniel bruno gabriel rodolfo sergio josimar joão olga luna rennan matheus\n",
            "MATHEUS BRUNO CAMILA JULIANA LUIZA MARÍLIA MAURÍCIO DANIEL BRUNO GABRIEL RODOLFO SERGIO JOSIMAR JOÃO OLGA LUNA RENNAN MATHEUS\n"
          ]
        }
      ]
    },
    {
      "cell_type": "code",
      "source": [
        "lista_nomes = string_longa.split()\n",
        "print(lista_nomes)"
      ],
      "metadata": {
        "colab": {
          "base_uri": "https://localhost:8080/"
        },
        "id": "TmKjv5S9buN3",
        "outputId": "3324a01c-2ad4-4dd1-f56c-910ec9312998"
      },
      "execution_count": null,
      "outputs": [
        {
          "output_type": "stream",
          "name": "stdout",
          "text": [
            "['Matheus', 'Bruno', 'Camila', 'Juliana', 'Luiza', 'Marília', 'Maurício', 'Daniel', 'Bruno', 'Gabriel', 'Rodolfo', 'Sergio', 'Josimar', 'João', 'Olga', 'Luna', 'Rennan', 'Matheus']\n"
          ]
        }
      ]
    },
    {
      "cell_type": "code",
      "source": [
        "print(lista_nomes.count('Matheus'))\n",
        "print(lista_nomes.count('Rodolfo'))"
      ],
      "metadata": {
        "colab": {
          "base_uri": "https://localhost:8080/"
        },
        "id": "G0P77HhlbyMm",
        "outputId": "ff20fa0c-2b48-4e59-f60d-b0417961d08c"
      },
      "execution_count": null,
      "outputs": [
        {
          "output_type": "stream",
          "name": "stdout",
          "text": [
            "2\n",
            "1\n"
          ]
        }
      ]
    },
    {
      "cell_type": "markdown",
      "source": [
        "### Ifs e Loops"
      ],
      "metadata": {
        "id": "YSV32OkMcFgD"
      }
    },
    {
      "cell_type": "code",
      "source": [
        "media = 7\n",
        "if media < 7:\n",
        "  print('Reprovado')\n",
        "else:\n",
        "  print('Aprovado')"
      ],
      "metadata": {
        "colab": {
          "base_uri": "https://localhost:8080/"
        },
        "id": "dyuOG1nXb2YI",
        "outputId": "a6b005a3-db3a-4e9f-9e32-04eeae27359a"
      },
      "execution_count": null,
      "outputs": [
        {
          "output_type": "stream",
          "name": "stdout",
          "text": [
            "Aprovado\n"
          ]
        }
      ]
    },
    {
      "cell_type": "code",
      "source": [
        "media >= 7"
      ],
      "metadata": {
        "colab": {
          "base_uri": "https://localhost:8080/"
        },
        "id": "9jZaP34XcUfp",
        "outputId": "092c7436-f399-4aad-f366-5c813e9c0bf5"
      },
      "execution_count": null,
      "outputs": [
        {
          "output_type": "execute_result",
          "data": {
            "text/plain": [
              "True"
            ]
          },
          "metadata": {},
          "execution_count": 60
        }
      ]
    },
    {
      "cell_type": "code",
      "source": [
        "def lanca_notas(media):\n",
        "  if media < 7:\n",
        "    print('Reprovado')\n",
        "  else:\n",
        "    print('Aprovado')\n",
        "\n",
        "lanca_notas(7)"
      ],
      "metadata": {
        "colab": {
          "base_uri": "https://localhost:8080/"
        },
        "id": "x03OAUo0cXxs",
        "outputId": "707cba66-ef3f-4749-bea8-fe755c568d0e"
      },
      "execution_count": null,
      "outputs": [
        {
          "output_type": "stream",
          "name": "stdout",
          "text": [
            "Aprovado\n"
          ]
        }
      ]
    },
    {
      "cell_type": "code",
      "source": [
        "lanca_notas(3)"
      ],
      "metadata": {
        "colab": {
          "base_uri": "https://localhost:8080/"
        },
        "id": "RfXXMR7Tcigu",
        "outputId": "df4dd388-b312-41bd-e6cb-443115dfb5c8"
      },
      "execution_count": null,
      "outputs": [
        {
          "output_type": "stream",
          "name": "stdout",
          "text": [
            "Reprovado\n"
          ]
        }
      ]
    },
    {
      "cell_type": "code",
      "source": [
        "def lanca_notas(media):\n",
        "  if media < 7:\n",
        "    print('Reprovado')\n",
        "  elif media == 7:\n",
        "    print('Passou raspando!')\n",
        "  else:\n",
        "    print('Aprovado')\n",
        "\n",
        "lanca_notas(7)"
      ],
      "metadata": {
        "colab": {
          "base_uri": "https://localhost:8080/"
        },
        "id": "ZgcDLNc-ckJ3",
        "outputId": "109184b6-6d9e-439c-ce45-4fb55fea2193"
      },
      "execution_count": null,
      "outputs": [
        {
          "output_type": "stream",
          "name": "stdout",
          "text": [
            "Passou raspando!\n"
          ]
        }
      ]
    },
    {
      "cell_type": "code",
      "source": [
        "estudantes = ['Camila', 'Marília', 'Juliana', 'Rennan']\n",
        "\n",
        "for nome in estudantes:\n",
        "  print(f'Nome: {nome.upper()}')"
      ],
      "metadata": {
        "colab": {
          "base_uri": "https://localhost:8080/"
        },
        "id": "ALl3GkC_csN5",
        "outputId": "9e6713da-3228-4931-c699-f5c5a4e32d52"
      },
      "execution_count": null,
      "outputs": [
        {
          "output_type": "stream",
          "name": "stdout",
          "text": [
            "Nome: CAMILA\n",
            "Nome: MARÍLIA\n",
            "Nome: JULIANA\n",
            "Nome: RENNAN\n"
          ]
        }
      ]
    },
    {
      "cell_type": "code",
      "source": [
        "for estudante in estudantes:\n",
        "  if estudante[-1] == 'a':\n",
        "    print(f'{estudante} termina com a letra A!')\n",
        "  else: print(f'{estudante} termina com {estudante[-1].upper()}!')"
      ],
      "metadata": {
        "colab": {
          "base_uri": "https://localhost:8080/"
        },
        "id": "Rl9I8vd4c7lW",
        "outputId": "1d357cf1-3a05-4b36-bc2b-a98b29285fe9"
      },
      "execution_count": null,
      "outputs": [
        {
          "output_type": "stream",
          "name": "stdout",
          "text": [
            "Camila termina com a letra A!\n",
            "Marília termina com a letra A!\n",
            "Juliana termina com a letra A!\n",
            "Rennan termina com N!\n"
          ]
        }
      ]
    },
    {
      "cell_type": "code",
      "source": [
        "numero = 0\n",
        "while numero <= 10:\n",
        "  if numero == 3:\n",
        "    print('O número é igual a 3!')\n",
        "  else:\n",
        "    print(numero)\n",
        "  numero += 1"
      ],
      "metadata": {
        "colab": {
          "base_uri": "https://localhost:8080/"
        },
        "id": "Z-RcH6S_dNKq",
        "outputId": "4562887c-2dac-409d-dfd2-37bbcb283c94"
      },
      "execution_count": null,
      "outputs": [
        {
          "output_type": "stream",
          "name": "stdout",
          "text": [
            "0\n",
            "1\n",
            "2\n",
            "O número é igual a 3!\n",
            "4\n",
            "5\n",
            "6\n",
            "7\n",
            "8\n",
            "9\n",
            "10\n"
          ]
        }
      ]
    },
    {
      "cell_type": "markdown",
      "source": [
        "#### Desafio\n",
        "\n",
        "Construa uma função que verifica se um número é par ou ímpar"
      ],
      "metadata": {
        "id": "eU7HMY3XfKC3"
      }
    },
    {
      "cell_type": "code",
      "source": [],
      "metadata": {
        "id": "ZOY7II2HfI-l"
      },
      "execution_count": null,
      "outputs": []
    },
    {
      "cell_type": "markdown",
      "source": [
        "### Pacotes"
      ],
      "metadata": {
        "id": "7lMwePQ9fUSt"
      }
    },
    {
      "cell_type": "code",
      "source": [
        "import pandas as pd\n",
        "import numpy as np\n",
        "import matplotlib.pyplot as plt\n",
        "from math import sqrt as raizquadrada"
      ],
      "metadata": {
        "id": "2ojEQlhdfVQ3"
      },
      "execution_count": null,
      "outputs": []
    },
    {
      "cell_type": "code",
      "source": [
        "raizquadrada(169)"
      ],
      "metadata": {
        "colab": {
          "base_uri": "https://localhost:8080/"
        },
        "id": "svFgpg2mfoTK",
        "outputId": "e6bb5e84-de6c-47a7-c328-0cfd68e7af34"
      },
      "execution_count": null,
      "outputs": [
        {
          "output_type": "execute_result",
          "data": {
            "text/plain": [
              "13.0"
            ]
          },
          "metadata": {},
          "execution_count": 81
        }
      ]
    },
    {
      "cell_type": "code",
      "source": [
        "!pip install transformers sentencepiece protobuf"
      ],
      "metadata": {
        "colab": {
          "base_uri": "https://localhost:8080/"
        },
        "id": "uG6oKLXdfpIE",
        "outputId": "ab8da7a8-d20c-40a5-a810-2181f05cb9c9"
      },
      "execution_count": null,
      "outputs": [
        {
          "output_type": "stream",
          "name": "stdout",
          "text": [
            "Collecting transformers\n",
            "  Downloading transformers-4.31.0-py3-none-any.whl (7.4 MB)\n",
            "\u001b[2K     \u001b[90m━━━━━━━━━━━━━━━━━━━━━━━━━━━━━━━━━━━━━━━━\u001b[0m \u001b[32m7.4/7.4 MB\u001b[0m \u001b[31m37.5 MB/s\u001b[0m eta \u001b[36m0:00:00\u001b[0m\n",
            "\u001b[?25hCollecting sentencepiece\n",
            "  Downloading sentencepiece-0.1.99-cp310-cp310-manylinux_2_17_x86_64.manylinux2014_x86_64.whl (1.3 MB)\n",
            "\u001b[2K     \u001b[90m━━━━━━━━━━━━━━━━━━━━━━━━━━━━━━━━━━━━━━━━\u001b[0m \u001b[32m1.3/1.3 MB\u001b[0m \u001b[31m66.9 MB/s\u001b[0m eta \u001b[36m0:00:00\u001b[0m\n",
            "\u001b[?25hRequirement already satisfied: protobuf in /usr/local/lib/python3.10/dist-packages (3.20.3)\n",
            "Requirement already satisfied: filelock in /usr/local/lib/python3.10/dist-packages (from transformers) (3.12.2)\n",
            "Collecting huggingface-hub<1.0,>=0.14.1 (from transformers)\n",
            "  Downloading huggingface_hub-0.16.4-py3-none-any.whl (268 kB)\n",
            "\u001b[2K     \u001b[90m━━━━━━━━━━━━━━━━━━━━━━━━━━━━━━━━━━━━━━\u001b[0m \u001b[32m268.8/268.8 kB\u001b[0m \u001b[31m28.6 MB/s\u001b[0m eta \u001b[36m0:00:00\u001b[0m\n",
            "\u001b[?25hRequirement already satisfied: numpy>=1.17 in /usr/local/lib/python3.10/dist-packages (from transformers) (1.22.4)\n",
            "Requirement already satisfied: packaging>=20.0 in /usr/local/lib/python3.10/dist-packages (from transformers) (23.1)\n",
            "Requirement already satisfied: pyyaml>=5.1 in /usr/local/lib/python3.10/dist-packages (from transformers) (6.0.1)\n",
            "Requirement already satisfied: regex!=2019.12.17 in /usr/local/lib/python3.10/dist-packages (from transformers) (2022.10.31)\n",
            "Requirement already satisfied: requests in /usr/local/lib/python3.10/dist-packages (from transformers) (2.27.1)\n",
            "Collecting tokenizers!=0.11.3,<0.14,>=0.11.1 (from transformers)\n",
            "  Downloading tokenizers-0.13.3-cp310-cp310-manylinux_2_17_x86_64.manylinux2014_x86_64.whl (7.8 MB)\n",
            "\u001b[2K     \u001b[90m━━━━━━━━━━━━━━━━━━━━━━━━━━━━━━━━━━━━━━━━\u001b[0m \u001b[32m7.8/7.8 MB\u001b[0m \u001b[31m62.7 MB/s\u001b[0m eta \u001b[36m0:00:00\u001b[0m\n",
            "\u001b[?25hCollecting safetensors>=0.3.1 (from transformers)\n",
            "  Downloading safetensors-0.3.1-cp310-cp310-manylinux_2_17_x86_64.manylinux2014_x86_64.whl (1.3 MB)\n",
            "\u001b[2K     \u001b[90m━━━━━━━━━━━━━━━━━━━━━━━━━━━━━━━━━━━━━━━━\u001b[0m \u001b[32m1.3/1.3 MB\u001b[0m \u001b[31m69.6 MB/s\u001b[0m eta \u001b[36m0:00:00\u001b[0m\n",
            "\u001b[?25hRequirement already satisfied: tqdm>=4.27 in /usr/local/lib/python3.10/dist-packages (from transformers) (4.65.0)\n",
            "Requirement already satisfied: fsspec in /usr/local/lib/python3.10/dist-packages (from huggingface-hub<1.0,>=0.14.1->transformers) (2023.6.0)\n",
            "Requirement already satisfied: typing-extensions>=3.7.4.3 in /usr/local/lib/python3.10/dist-packages (from huggingface-hub<1.0,>=0.14.1->transformers) (4.7.1)\n",
            "Requirement already satisfied: urllib3<1.27,>=1.21.1 in /usr/local/lib/python3.10/dist-packages (from requests->transformers) (1.26.16)\n",
            "Requirement already satisfied: certifi>=2017.4.17 in /usr/local/lib/python3.10/dist-packages (from requests->transformers) (2023.5.7)\n",
            "Requirement already satisfied: charset-normalizer~=2.0.0 in /usr/local/lib/python3.10/dist-packages (from requests->transformers) (2.0.12)\n",
            "Requirement already satisfied: idna<4,>=2.5 in /usr/local/lib/python3.10/dist-packages (from requests->transformers) (3.4)\n",
            "Installing collected packages: tokenizers, sentencepiece, safetensors, huggingface-hub, transformers\n",
            "Successfully installed huggingface-hub-0.16.4 safetensors-0.3.1 sentencepiece-0.1.99 tokenizers-0.13.3 transformers-4.31.0\n"
          ]
        }
      ]
    },
    {
      "cell_type": "markdown",
      "source": [
        "### Dataset"
      ],
      "metadata": {
        "id": "A8oiIgASgAJN"
      }
    },
    {
      "cell_type": "code",
      "source": [
        "gender_gap = pd.read_csv('https://media.githubusercontent.com/media/m-clark/noiris/master/data-raw/gender-gap/wef_gender_gap.csv')\n",
        "gender_gap"
      ],
      "metadata": {
        "colab": {
          "base_uri": "https://localhost:8080/",
          "height": 921
        },
        "id": "MuzR63FkftVf",
        "outputId": "0feb32fc-0a81-455b-c3b1-e3b453699371"
      },
      "execution_count": null,
      "outputs": [
        {
          "output_type": "execute_result",
          "data": {
            "text/plain": [
              "     Country ISO3 Country Name  Indicator Id  \\\n",
              "0             AGO       Angola         27959   \n",
              "1             AGO       Angola         27960   \n",
              "2             AGO       Angola         27961   \n",
              "3             AGO       Angola         27962   \n",
              "4             AGO       Angola         28158   \n",
              "...           ...          ...           ...   \n",
              "5581          ZWE     Zimbabwe         41787   \n",
              "5582          ZWE     Zimbabwe         41788   \n",
              "5583          ZWE     Zimbabwe         41789   \n",
              "5584          ZWE     Zimbabwe         41790   \n",
              "5585          ZWE     Zimbabwe         41791   \n",
              "\n",
              "                                              Indicator Subindicator Type  \\\n",
              "0                       Overall Global Gender Gap Index             Index   \n",
              "1      Global Gender Gap Political Empowerment subindex              Rank   \n",
              "2      Global Gender Gap Political Empowerment subindex             Index   \n",
              "3                       Overall Global Gender Gap Index              Rank   \n",
              "4     Global Gender Gap Economic Participation and O...              Rank   \n",
              "...                                                 ...               ...   \n",
              "5581                                 Sex ratio at birth             Index   \n",
              "5582                            Healthy life expectancy             Index   \n",
              "5583                                Women in parliament             Index   \n",
              "5584                     Women in ministerial positions             Index   \n",
              "5585          Years with female head of state (last 50)             Index   \n",
              "\n",
              "         2006      2007      2008      2009     2010     2011  2012     2013  \\\n",
              "0      0.6038    0.6034    0.6032    0.6353   0.6712   0.6624   NaN   0.6659   \n",
              "1     81.0000   92.0000  103.0000   36.0000  24.0000  24.0000   NaN  34.0000   \n",
              "2      0.0696    0.0696    0.0711    0.2007   0.2901   0.2898   NaN   0.2614   \n",
              "3     96.0000  110.0000  114.0000  106.0000  81.0000  87.0000   NaN  92.0000   \n",
              "4     69.0000   87.0000   87.0000   96.0000  76.0000  96.0000   NaN  92.0000   \n",
              "...       ...       ...       ...       ...      ...      ...   ...      ...   \n",
              "5581      NaN       NaN       NaN       NaN      NaN      NaN   NaN      NaN   \n",
              "5582      NaN       NaN       NaN       NaN      NaN      NaN   NaN      NaN   \n",
              "5583      NaN       NaN       NaN       NaN      NaN      NaN   NaN      NaN   \n",
              "5584      NaN       NaN       NaN       NaN      NaN      NaN   NaN      NaN   \n",
              "5585      NaN       NaN       NaN       NaN      NaN      NaN   NaN      NaN   \n",
              "\n",
              "          2014     2015     2016        2018  \n",
              "0       0.6311    0.637    0.643    0.633000  \n",
              "1      38.0000   38.000   40.000   58.000000  \n",
              "2       0.2402    0.251    0.251    0.206000  \n",
              "3     121.0000  126.000  117.000  125.000000  \n",
              "4     111.0000  116.000  120.000  113.000000  \n",
              "...        ...      ...      ...         ...  \n",
              "5581       NaN      NaN      NaN    0.944000  \n",
              "5582       NaN      NaN      NaN    1.060000  \n",
              "5583       NaN      NaN      NaN    0.459459  \n",
              "5584       NaN      NaN      NaN    0.192308  \n",
              "5585       NaN      NaN      NaN    0.000000  \n",
              "\n",
              "[5586 rows x 17 columns]"
            ],
            "text/html": [
              "\n",
              "\n",
              "  <div id=\"df-d6881a30-8f5b-4196-9ee4-0e1f14a8f413\">\n",
              "    <div class=\"colab-df-container\">\n",
              "      <div>\n",
              "<style scoped>\n",
              "    .dataframe tbody tr th:only-of-type {\n",
              "        vertical-align: middle;\n",
              "    }\n",
              "\n",
              "    .dataframe tbody tr th {\n",
              "        vertical-align: top;\n",
              "    }\n",
              "\n",
              "    .dataframe thead th {\n",
              "        text-align: right;\n",
              "    }\n",
              "</style>\n",
              "<table border=\"1\" class=\"dataframe\">\n",
              "  <thead>\n",
              "    <tr style=\"text-align: right;\">\n",
              "      <th></th>\n",
              "      <th>Country ISO3</th>\n",
              "      <th>Country Name</th>\n",
              "      <th>Indicator Id</th>\n",
              "      <th>Indicator</th>\n",
              "      <th>Subindicator Type</th>\n",
              "      <th>2006</th>\n",
              "      <th>2007</th>\n",
              "      <th>2008</th>\n",
              "      <th>2009</th>\n",
              "      <th>2010</th>\n",
              "      <th>2011</th>\n",
              "      <th>2012</th>\n",
              "      <th>2013</th>\n",
              "      <th>2014</th>\n",
              "      <th>2015</th>\n",
              "      <th>2016</th>\n",
              "      <th>2018</th>\n",
              "    </tr>\n",
              "  </thead>\n",
              "  <tbody>\n",
              "    <tr>\n",
              "      <th>0</th>\n",
              "      <td>AGO</td>\n",
              "      <td>Angola</td>\n",
              "      <td>27959</td>\n",
              "      <td>Overall Global Gender Gap Index</td>\n",
              "      <td>Index</td>\n",
              "      <td>0.6038</td>\n",
              "      <td>0.6034</td>\n",
              "      <td>0.6032</td>\n",
              "      <td>0.6353</td>\n",
              "      <td>0.6712</td>\n",
              "      <td>0.6624</td>\n",
              "      <td>NaN</td>\n",
              "      <td>0.6659</td>\n",
              "      <td>0.6311</td>\n",
              "      <td>0.637</td>\n",
              "      <td>0.643</td>\n",
              "      <td>0.633000</td>\n",
              "    </tr>\n",
              "    <tr>\n",
              "      <th>1</th>\n",
              "      <td>AGO</td>\n",
              "      <td>Angola</td>\n",
              "      <td>27960</td>\n",
              "      <td>Global Gender Gap Political Empowerment subindex</td>\n",
              "      <td>Rank</td>\n",
              "      <td>81.0000</td>\n",
              "      <td>92.0000</td>\n",
              "      <td>103.0000</td>\n",
              "      <td>36.0000</td>\n",
              "      <td>24.0000</td>\n",
              "      <td>24.0000</td>\n",
              "      <td>NaN</td>\n",
              "      <td>34.0000</td>\n",
              "      <td>38.0000</td>\n",
              "      <td>38.000</td>\n",
              "      <td>40.000</td>\n",
              "      <td>58.000000</td>\n",
              "    </tr>\n",
              "    <tr>\n",
              "      <th>2</th>\n",
              "      <td>AGO</td>\n",
              "      <td>Angola</td>\n",
              "      <td>27961</td>\n",
              "      <td>Global Gender Gap Political Empowerment subindex</td>\n",
              "      <td>Index</td>\n",
              "      <td>0.0696</td>\n",
              "      <td>0.0696</td>\n",
              "      <td>0.0711</td>\n",
              "      <td>0.2007</td>\n",
              "      <td>0.2901</td>\n",
              "      <td>0.2898</td>\n",
              "      <td>NaN</td>\n",
              "      <td>0.2614</td>\n",
              "      <td>0.2402</td>\n",
              "      <td>0.251</td>\n",
              "      <td>0.251</td>\n",
              "      <td>0.206000</td>\n",
              "    </tr>\n",
              "    <tr>\n",
              "      <th>3</th>\n",
              "      <td>AGO</td>\n",
              "      <td>Angola</td>\n",
              "      <td>27962</td>\n",
              "      <td>Overall Global Gender Gap Index</td>\n",
              "      <td>Rank</td>\n",
              "      <td>96.0000</td>\n",
              "      <td>110.0000</td>\n",
              "      <td>114.0000</td>\n",
              "      <td>106.0000</td>\n",
              "      <td>81.0000</td>\n",
              "      <td>87.0000</td>\n",
              "      <td>NaN</td>\n",
              "      <td>92.0000</td>\n",
              "      <td>121.0000</td>\n",
              "      <td>126.000</td>\n",
              "      <td>117.000</td>\n",
              "      <td>125.000000</td>\n",
              "    </tr>\n",
              "    <tr>\n",
              "      <th>4</th>\n",
              "      <td>AGO</td>\n",
              "      <td>Angola</td>\n",
              "      <td>28158</td>\n",
              "      <td>Global Gender Gap Economic Participation and O...</td>\n",
              "      <td>Rank</td>\n",
              "      <td>69.0000</td>\n",
              "      <td>87.0000</td>\n",
              "      <td>87.0000</td>\n",
              "      <td>96.0000</td>\n",
              "      <td>76.0000</td>\n",
              "      <td>96.0000</td>\n",
              "      <td>NaN</td>\n",
              "      <td>92.0000</td>\n",
              "      <td>111.0000</td>\n",
              "      <td>116.000</td>\n",
              "      <td>120.000</td>\n",
              "      <td>113.000000</td>\n",
              "    </tr>\n",
              "    <tr>\n",
              "      <th>...</th>\n",
              "      <td>...</td>\n",
              "      <td>...</td>\n",
              "      <td>...</td>\n",
              "      <td>...</td>\n",
              "      <td>...</td>\n",
              "      <td>...</td>\n",
              "      <td>...</td>\n",
              "      <td>...</td>\n",
              "      <td>...</td>\n",
              "      <td>...</td>\n",
              "      <td>...</td>\n",
              "      <td>...</td>\n",
              "      <td>...</td>\n",
              "      <td>...</td>\n",
              "      <td>...</td>\n",
              "      <td>...</td>\n",
              "      <td>...</td>\n",
              "    </tr>\n",
              "    <tr>\n",
              "      <th>5581</th>\n",
              "      <td>ZWE</td>\n",
              "      <td>Zimbabwe</td>\n",
              "      <td>41787</td>\n",
              "      <td>Sex ratio at birth</td>\n",
              "      <td>Index</td>\n",
              "      <td>NaN</td>\n",
              "      <td>NaN</td>\n",
              "      <td>NaN</td>\n",
              "      <td>NaN</td>\n",
              "      <td>NaN</td>\n",
              "      <td>NaN</td>\n",
              "      <td>NaN</td>\n",
              "      <td>NaN</td>\n",
              "      <td>NaN</td>\n",
              "      <td>NaN</td>\n",
              "      <td>NaN</td>\n",
              "      <td>0.944000</td>\n",
              "    </tr>\n",
              "    <tr>\n",
              "      <th>5582</th>\n",
              "      <td>ZWE</td>\n",
              "      <td>Zimbabwe</td>\n",
              "      <td>41788</td>\n",
              "      <td>Healthy life expectancy</td>\n",
              "      <td>Index</td>\n",
              "      <td>NaN</td>\n",
              "      <td>NaN</td>\n",
              "      <td>NaN</td>\n",
              "      <td>NaN</td>\n",
              "      <td>NaN</td>\n",
              "      <td>NaN</td>\n",
              "      <td>NaN</td>\n",
              "      <td>NaN</td>\n",
              "      <td>NaN</td>\n",
              "      <td>NaN</td>\n",
              "      <td>NaN</td>\n",
              "      <td>1.060000</td>\n",
              "    </tr>\n",
              "    <tr>\n",
              "      <th>5583</th>\n",
              "      <td>ZWE</td>\n",
              "      <td>Zimbabwe</td>\n",
              "      <td>41789</td>\n",
              "      <td>Women in parliament</td>\n",
              "      <td>Index</td>\n",
              "      <td>NaN</td>\n",
              "      <td>NaN</td>\n",
              "      <td>NaN</td>\n",
              "      <td>NaN</td>\n",
              "      <td>NaN</td>\n",
              "      <td>NaN</td>\n",
              "      <td>NaN</td>\n",
              "      <td>NaN</td>\n",
              "      <td>NaN</td>\n",
              "      <td>NaN</td>\n",
              "      <td>NaN</td>\n",
              "      <td>0.459459</td>\n",
              "    </tr>\n",
              "    <tr>\n",
              "      <th>5584</th>\n",
              "      <td>ZWE</td>\n",
              "      <td>Zimbabwe</td>\n",
              "      <td>41790</td>\n",
              "      <td>Women in ministerial positions</td>\n",
              "      <td>Index</td>\n",
              "      <td>NaN</td>\n",
              "      <td>NaN</td>\n",
              "      <td>NaN</td>\n",
              "      <td>NaN</td>\n",
              "      <td>NaN</td>\n",
              "      <td>NaN</td>\n",
              "      <td>NaN</td>\n",
              "      <td>NaN</td>\n",
              "      <td>NaN</td>\n",
              "      <td>NaN</td>\n",
              "      <td>NaN</td>\n",
              "      <td>0.192308</td>\n",
              "    </tr>\n",
              "    <tr>\n",
              "      <th>5585</th>\n",
              "      <td>ZWE</td>\n",
              "      <td>Zimbabwe</td>\n",
              "      <td>41791</td>\n",
              "      <td>Years with female head of state (last 50)</td>\n",
              "      <td>Index</td>\n",
              "      <td>NaN</td>\n",
              "      <td>NaN</td>\n",
              "      <td>NaN</td>\n",
              "      <td>NaN</td>\n",
              "      <td>NaN</td>\n",
              "      <td>NaN</td>\n",
              "      <td>NaN</td>\n",
              "      <td>NaN</td>\n",
              "      <td>NaN</td>\n",
              "      <td>NaN</td>\n",
              "      <td>NaN</td>\n",
              "      <td>0.000000</td>\n",
              "    </tr>\n",
              "  </tbody>\n",
              "</table>\n",
              "<p>5586 rows × 17 columns</p>\n",
              "</div>\n",
              "      <button class=\"colab-df-convert\" onclick=\"convertToInteractive('df-d6881a30-8f5b-4196-9ee4-0e1f14a8f413')\"\n",
              "              title=\"Convert this dataframe to an interactive table.\"\n",
              "              style=\"display:none;\">\n",
              "\n",
              "  <svg xmlns=\"http://www.w3.org/2000/svg\" height=\"24px\"viewBox=\"0 0 24 24\"\n",
              "       width=\"24px\">\n",
              "    <path d=\"M0 0h24v24H0V0z\" fill=\"none\"/>\n",
              "    <path d=\"M18.56 5.44l.94 2.06.94-2.06 2.06-.94-2.06-.94-.94-2.06-.94 2.06-2.06.94zm-11 1L8.5 8.5l.94-2.06 2.06-.94-2.06-.94L8.5 2.5l-.94 2.06-2.06.94zm10 10l.94 2.06.94-2.06 2.06-.94-2.06-.94-.94-2.06-.94 2.06-2.06.94z\"/><path d=\"M17.41 7.96l-1.37-1.37c-.4-.4-.92-.59-1.43-.59-.52 0-1.04.2-1.43.59L10.3 9.45l-7.72 7.72c-.78.78-.78 2.05 0 2.83L4 21.41c.39.39.9.59 1.41.59.51 0 1.02-.2 1.41-.59l7.78-7.78 2.81-2.81c.8-.78.8-2.07 0-2.86zM5.41 20L4 18.59l7.72-7.72 1.47 1.35L5.41 20z\"/>\n",
              "  </svg>\n",
              "      </button>\n",
              "\n",
              "\n",
              "\n",
              "    <div id=\"df-72438321-c108-42ec-93e0-2ce59755560b\">\n",
              "      <button class=\"colab-df-quickchart\" onclick=\"quickchart('df-72438321-c108-42ec-93e0-2ce59755560b')\"\n",
              "              title=\"Suggest charts.\"\n",
              "              style=\"display:none;\">\n",
              "\n",
              "<svg xmlns=\"http://www.w3.org/2000/svg\" height=\"24px\"viewBox=\"0 0 24 24\"\n",
              "     width=\"24px\">\n",
              "    <g>\n",
              "        <path d=\"M19 3H5c-1.1 0-2 .9-2 2v14c0 1.1.9 2 2 2h14c1.1 0 2-.9 2-2V5c0-1.1-.9-2-2-2zM9 17H7v-7h2v7zm4 0h-2V7h2v10zm4 0h-2v-4h2v4z\"/>\n",
              "    </g>\n",
              "</svg>\n",
              "      </button>\n",
              "    </div>\n",
              "\n",
              "<style>\n",
              "  .colab-df-quickchart {\n",
              "    background-color: #E8F0FE;\n",
              "    border: none;\n",
              "    border-radius: 50%;\n",
              "    cursor: pointer;\n",
              "    display: none;\n",
              "    fill: #1967D2;\n",
              "    height: 32px;\n",
              "    padding: 0 0 0 0;\n",
              "    width: 32px;\n",
              "  }\n",
              "\n",
              "  .colab-df-quickchart:hover {\n",
              "    background-color: #E2EBFA;\n",
              "    box-shadow: 0px 1px 2px rgba(60, 64, 67, 0.3), 0px 1px 3px 1px rgba(60, 64, 67, 0.15);\n",
              "    fill: #174EA6;\n",
              "  }\n",
              "\n",
              "  [theme=dark] .colab-df-quickchart {\n",
              "    background-color: #3B4455;\n",
              "    fill: #D2E3FC;\n",
              "  }\n",
              "\n",
              "  [theme=dark] .colab-df-quickchart:hover {\n",
              "    background-color: #434B5C;\n",
              "    box-shadow: 0px 1px 3px 1px rgba(0, 0, 0, 0.15);\n",
              "    filter: drop-shadow(0px 1px 2px rgba(0, 0, 0, 0.3));\n",
              "    fill: #FFFFFF;\n",
              "  }\n",
              "</style>\n",
              "\n",
              "    <script>\n",
              "      async function quickchart(key) {\n",
              "        const containerElement = document.querySelector('#' + key);\n",
              "        const charts = await google.colab.kernel.invokeFunction(\n",
              "            'suggestCharts', [key], {});\n",
              "      }\n",
              "    </script>\n",
              "\n",
              "      <script>\n",
              "\n",
              "function displayQuickchartButton(domScope) {\n",
              "  let quickchartButtonEl =\n",
              "    domScope.querySelector('#df-72438321-c108-42ec-93e0-2ce59755560b button.colab-df-quickchart');\n",
              "  quickchartButtonEl.style.display =\n",
              "    google.colab.kernel.accessAllowed ? 'block' : 'none';\n",
              "}\n",
              "\n",
              "        displayQuickchartButton(document);\n",
              "      </script>\n",
              "      <style>\n",
              "    .colab-df-container {\n",
              "      display:flex;\n",
              "      flex-wrap:wrap;\n",
              "      gap: 12px;\n",
              "    }\n",
              "\n",
              "    .colab-df-convert {\n",
              "      background-color: #E8F0FE;\n",
              "      border: none;\n",
              "      border-radius: 50%;\n",
              "      cursor: pointer;\n",
              "      display: none;\n",
              "      fill: #1967D2;\n",
              "      height: 32px;\n",
              "      padding: 0 0 0 0;\n",
              "      width: 32px;\n",
              "    }\n",
              "\n",
              "    .colab-df-convert:hover {\n",
              "      background-color: #E2EBFA;\n",
              "      box-shadow: 0px 1px 2px rgba(60, 64, 67, 0.3), 0px 1px 3px 1px rgba(60, 64, 67, 0.15);\n",
              "      fill: #174EA6;\n",
              "    }\n",
              "\n",
              "    [theme=dark] .colab-df-convert {\n",
              "      background-color: #3B4455;\n",
              "      fill: #D2E3FC;\n",
              "    }\n",
              "\n",
              "    [theme=dark] .colab-df-convert:hover {\n",
              "      background-color: #434B5C;\n",
              "      box-shadow: 0px 1px 3px 1px rgba(0, 0, 0, 0.15);\n",
              "      filter: drop-shadow(0px 1px 2px rgba(0, 0, 0, 0.3));\n",
              "      fill: #FFFFFF;\n",
              "    }\n",
              "  </style>\n",
              "\n",
              "      <script>\n",
              "        const buttonEl =\n",
              "          document.querySelector('#df-d6881a30-8f5b-4196-9ee4-0e1f14a8f413 button.colab-df-convert');\n",
              "        buttonEl.style.display =\n",
              "          google.colab.kernel.accessAllowed ? 'block' : 'none';\n",
              "\n",
              "        async function convertToInteractive(key) {\n",
              "          const element = document.querySelector('#df-d6881a30-8f5b-4196-9ee4-0e1f14a8f413');\n",
              "          const dataTable =\n",
              "            await google.colab.kernel.invokeFunction('convertToInteractive',\n",
              "                                                     [key], {});\n",
              "          if (!dataTable) return;\n",
              "\n",
              "          const docLinkHtml = 'Like what you see? Visit the ' +\n",
              "            '<a target=\"_blank\" href=https://colab.research.google.com/notebooks/data_table.ipynb>data table notebook</a>'\n",
              "            + ' to learn more about interactive tables.';\n",
              "          element.innerHTML = '';\n",
              "          dataTable['output_type'] = 'display_data';\n",
              "          await google.colab.output.renderOutput(dataTable, element);\n",
              "          const docLink = document.createElement('div');\n",
              "          docLink.innerHTML = docLinkHtml;\n",
              "          element.appendChild(docLink);\n",
              "        }\n",
              "      </script>\n",
              "    </div>\n",
              "  </div>\n"
            ]
          },
          "metadata": {},
          "execution_count": 84
        }
      ]
    },
    {
      "cell_type": "code",
      "source": [
        "t = np.arange(0., 5., 0.2)\n",
        "print(t)\n",
        "plt.figure(figsize=(12, 5))\n",
        "plt.plot(t, t, 'r--',\n",
        "         t, t**2, 'bs',\n",
        "         t, t**3, 'g^',\n",
        "         t, (t**4)/2, 'y*')\n",
        "plt.show()"
      ],
      "metadata": {
        "colab": {
          "base_uri": "https://localhost:8080/",
          "height": 445
        },
        "id": "0cbWjq4df3xr",
        "outputId": "dd362133-97af-4865-f8af-5f546cf27bd5"
      },
      "execution_count": null,
      "outputs": [
        {
          "output_type": "stream",
          "name": "stdout",
          "text": [
            "[0.  0.2 0.4 0.6 0.8 1.  1.2 1.4 1.6 1.8 2.  2.2 2.4 2.6 2.8 3.  3.2 3.4\n",
            " 3.6 3.8 4.  4.2 4.4 4.6 4.8]\n"
          ]
        },
        {
          "output_type": "display_data",
          "data": {
            "text/plain": [
              "<Figure size 1200x500 with 1 Axes>"
            ],
            "image/png": "[encoded data removed]"
          },
          "metadata": {}
        }
      ]
    },
    {
      "cell_type": "markdown",
      "source": [
        "## Onde aprender mais Python\n",
        "\n",
        "Learn Python in One Hour - https://www.youtube.com/watch?v=kqtD5dpn9C8\n",
        "\n",
        "Python Tutorial: Full Course for Begginers - https://www.youtube.com/watch?v=_uQrJ0TkZlc\n",
        "\n",
        "Roadmap Python: https://roadmap.sh/python"
      ],
      "metadata": {
        "id": "hpjfLqE8g-_l"
      }
    },
    {
      "cell_type": "code",
      "source": [],
      "metadata": {
        "id": "Dd5HEZlWinjP"
      },
      "execution_count": null,
      "outputs": []
    }
  ]
}